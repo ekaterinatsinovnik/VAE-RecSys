{
 "cells": [
  {
   "cell_type": "code",
   "execution_count": 1,
   "metadata": {},
   "outputs": [],
   "source": [
    "import numpy as np\n",
    "import pandas as pd\n",
    "from implicit.gpu.als import AlternatingLeastSquares\n",
    "from scipy.sparse import csr_matrix\n",
    "from sklearn.preprocessing import LabelEncoder\n",
    "\n",
    "from src.datasets.base_dataset import BaseDataset"
   ]
  },
  {
   "cell_type": "code",
   "execution_count": 2,
   "metadata": {},
   "outputs": [],
   "source": [
    "data = BaseDataset(\n",
    "    args={\n",
    "        \"dataset_shortname\": \"ml_1m\",\n",
    "        \"min_rating\": 3.5,\n",
    "        \"min_user_count\": 5,  # default 5\n",
    "        \"min_item_count\": 0,\n",
    "    }\n",
    ")"
   ]
  },
  {
   "cell_type": "code",
   "execution_count": 3,
   "metadata": {},
   "outputs": [],
   "source": [
    "ratings = data.load_dataset()"
   ]
  },
  {
   "cell_type": "code",
   "execution_count": 4,
   "metadata": {},
   "outputs": [],
   "source": [
    "train, val, test = (\n",
    "    pd.Series(ratings[\"train\"]),\n",
    "    pd.Series(ratings[\"val\"]),\n",
    "    pd.Series(ratings[\"test\"]),\n",
    ")"
   ]
  },
  {
   "cell_type": "code",
   "execution_count": 5,
   "metadata": {},
   "outputs": [],
   "source": [
    "def make_sparse(grouped_ratings):\n",
    "    ratings = grouped_ratings.explode()\n",
    "    user_index = ratings.index.to_numpy()\n",
    "\n",
    "    item_encoder = LabelEncoder()\n",
    "    item_index = item_encoder.fit_transform(ratings.values)\n",
    "\n",
    "    user_num = len(grouped_ratings)\n",
    "    item_num = len(np.unique(item_index))\n",
    "\n",
    "    sparse_matrix = csr_matrix(\n",
    "        (np.ones(len(user_index)), (user_index, item_index)),\n",
    "        shape=(user_num, item_num),\n",
    "    )\n",
    "\n",
    "    return sparse_matrix, item_encoder"
   ]
  },
  {
   "cell_type": "code",
   "execution_count": 8,
   "metadata": {},
   "outputs": [],
   "source": [
    "train_csr, item_train_encoder = make_sparse(train)"
   ]
  },
  {
   "cell_type": "code",
   "execution_count": 9,
   "metadata": {},
   "outputs": [
    {
     "data": {
      "application/vnd.jupyter.widget-view+json": {
       "model_id": "ffd874e6ba2f42cab34029e624eb11c5",
       "version_major": 2,
       "version_minor": 0
      },
      "text/plain": [
       "  0%|          | 0/15 [00:00<?, ?it/s]"
      ]
     },
     "metadata": {},
     "output_type": "display_data"
    }
   ],
   "source": [
    "als = AlternatingLeastSquares(factors=1024, random_state=0)\n",
    "als.fit(train_csr)"
   ]
  },
  {
   "cell_type": "code",
   "execution_count": 10,
   "metadata": {},
   "outputs": [],
   "source": [
    "rec_matrix, rec_scores = als.recommend(\n",
    "    range(0, len(train)), train_csr, N=50, filter_already_liked_items=True\n",
    ")"
   ]
  }
 ],
 "metadata": {
  "kernelspec": {
   "display_name": "diploma",
   "language": "python",
   "name": "python3"
  },
  "language_info": {
   "codemirror_mode": {
    "name": "ipython",
    "version": 3
   },
   "file_extension": ".py",
   "mimetype": "text/x-python",
   "name": "python",
   "nbconvert_exporter": "python",
   "pygments_lexer": "ipython3",
   "version": "3.12.2"
  }
 },
 "nbformat": 4,
 "nbformat_minor": 2
}
