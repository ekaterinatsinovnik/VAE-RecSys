{
 "cells": [
  {
   "cell_type": "code",
   "execution_count": 1,
   "metadata": {},
   "outputs": [],
   "source": [
    "import numpy as np\n",
    "import pandas as pd\n",
    "from implicit.gpu.als import AlternatingLeastSquares\n",
    "from scipy.sparse import csr_matrix\n",
    "# from sklearn.preprocessing import LabelEncoder\n",
    "\n",
    "import torch\n",
    "from torch import FloatTensor\n",
    "from torch.utils.data import DataLoader, TensorDataset\n",
    "\n",
    "from src.datasets import DatasetPreprocessor\n",
    "from src.dataloaders import VAEDataLoader\n",
    "from src.models.vae import MultiVAE\n",
    "from src.trainers import MultiVAETrainer"
   ]
  },
  {
   "cell_type": "code",
   "execution_count": 2,
   "metadata": {},
   "outputs": [],
   "source": [
    "args = {\n",
    "        \"dataset_shortname\": \"ml_1m\",\n",
    "        \"min_rating\": 3.5,\n",
    "        \"min_user_count\": 5,  # default 5\n",
    "        \"min_item_count\": 0,\n",
    "    }"
   ]
  },
  {
   "cell_type": "code",
   "execution_count": 3,
   "metadata": {},
   "outputs": [],
   "source": [
    "d = DatasetPreprocessor(**args).load_dataset()\n",
    "# item_num, dataloader, train = VAEDataLoader(batch_size=512).get_dataloaders(**args)"
   ]
  },
  {
   "cell_type": "code",
   "execution_count": 4,
   "metadata": {},
   "outputs": [],
   "source": [
    "loader = VAEDataLoader(**args, val_size=0.1, test_size=0.1, batch_size=128)\n",
    "dataloader, interactions = loader.get_dataloaders()"
   ]
  },
  {
   "cell_type": "code",
   "execution_count": 5,
   "metadata": {},
   "outputs": [
    {
     "data": {
      "text/plain": [
       "(3985274, 4)"
      ]
     },
     "execution_count": 5,
     "metadata": {},
     "output_type": "execute_result"
    }
   ],
   "source": [
    "d.shape"
   ]
  },
  {
   "cell_type": "code",
   "execution_count": 8,
   "metadata": {},
   "outputs": [],
   "source": [
    "unique_user_num = d.user_id.nunique() \n",
    "unique_item_num = d.item_id.nunique()"
   ]
  },
  {
   "cell_type": "code",
   "execution_count": 5,
   "metadata": {},
   "outputs": [],
   "source": [
    "sorted_df_to_split = (\n",
    "        d\n",
    "        .sort_values(by=['user_id', 'timestamp'], ascending=True)\n",
    "    )\n",
    "\n",
    "train = (\n",
    "    sorted_df_to_split\n",
    "    .groupby('user_id')\n",
    "    .apply(lambda row: row[:-1], include_groups=False)\n",
    "    .reset_index()\n",
    "    .drop(columns=['level_1'])\n",
    ")\n",
    "test = (\n",
    "    sorted_df_to_split\n",
    "    .groupby('user_id')\n",
    "    .apply(lambda row: row[-1:], include_groups=False)\n",
    "    .reset_index()\n",
    "    .drop(columns=['level_1'])\n",
    ")"
   ]
  },
  {
   "cell_type": "code",
   "execution_count": 9,
   "metadata": {},
   "outputs": [
    {
     "data": {
      "text/html": [
       "<div>\n",
       "<style scoped>\n",
       "    .dataframe tbody tr th:only-of-type {\n",
       "        vertical-align: middle;\n",
       "    }\n",
       "\n",
       "    .dataframe tbody tr th {\n",
       "        vertical-align: top;\n",
       "    }\n",
       "\n",
       "    .dataframe thead th {\n",
       "        text-align: right;\n",
       "    }\n",
       "</style>\n",
       "<table border=\"1\" class=\"dataframe\">\n",
       "  <thead>\n",
       "    <tr style=\"text-align: right;\">\n",
       "      <th></th>\n",
       "      <th>user_id</th>\n",
       "      <th>item_id</th>\n",
       "      <th>rating</th>\n",
       "      <th>timestamp</th>\n",
       "    </tr>\n",
       "  </thead>\n",
       "  <tbody>\n",
       "    <tr>\n",
       "      <th>0</th>\n",
       "      <td>0</td>\n",
       "      <td>22</td>\n",
       "      <td>4</td>\n",
       "      <td>978300019</td>\n",
       "    </tr>\n",
       "    <tr>\n",
       "      <th>1</th>\n",
       "      <td>0</td>\n",
       "      <td>15</td>\n",
       "      <td>5</td>\n",
       "      <td>978300055</td>\n",
       "    </tr>\n",
       "    <tr>\n",
       "      <th>2</th>\n",
       "      <td>0</td>\n",
       "      <td>19</td>\n",
       "      <td>4</td>\n",
       "      <td>978300055</td>\n",
       "    </tr>\n",
       "    <tr>\n",
       "      <th>3</th>\n",
       "      <td>0</td>\n",
       "      <td>28</td>\n",
       "      <td>5</td>\n",
       "      <td>978300055</td>\n",
       "    </tr>\n",
       "    <tr>\n",
       "      <th>4</th>\n",
       "      <td>0</td>\n",
       "      <td>27</td>\n",
       "      <td>5</td>\n",
       "      <td>978300172</td>\n",
       "    </tr>\n",
       "    <tr>\n",
       "      <th>...</th>\n",
       "      <td>...</td>\n",
       "      <td>...</td>\n",
       "      <td>...</td>\n",
       "      <td>...</td>\n",
       "    </tr>\n",
       "    <tr>\n",
       "      <th>569232</th>\n",
       "      <td>6033</td>\n",
       "      <td>99</td>\n",
       "      <td>4</td>\n",
       "      <td>997454349</td>\n",
       "    </tr>\n",
       "    <tr>\n",
       "      <th>569233</th>\n",
       "      <td>6033</td>\n",
       "      <td>132</td>\n",
       "      <td>4</td>\n",
       "      <td>997454367</td>\n",
       "    </tr>\n",
       "    <tr>\n",
       "      <th>569234</th>\n",
       "      <td>6033</td>\n",
       "      <td>700</td>\n",
       "      <td>5</td>\n",
       "      <td>997454398</td>\n",
       "    </tr>\n",
       "    <tr>\n",
       "      <th>569235</th>\n",
       "      <td>6033</td>\n",
       "      <td>842</td>\n",
       "      <td>4</td>\n",
       "      <td>997454429</td>\n",
       "    </tr>\n",
       "    <tr>\n",
       "      <th>569236</th>\n",
       "      <td>6033</td>\n",
       "      <td>179</td>\n",
       "      <td>4</td>\n",
       "      <td>997454464</td>\n",
       "    </tr>\n",
       "  </tbody>\n",
       "</table>\n",
       "<p>569237 rows × 4 columns</p>\n",
       "</div>"
      ],
      "text/plain": [
       "        user_id  item_id  rating  timestamp\n",
       "0             0       22       4  978300019\n",
       "1             0       15       5  978300055\n",
       "2             0       19       4  978300055\n",
       "3             0       28       5  978300055\n",
       "4             0       27       5  978300172\n",
       "...         ...      ...     ...        ...\n",
       "569232     6033       99       4  997454349\n",
       "569233     6033      132       4  997454367\n",
       "569234     6033      700       5  997454398\n",
       "569235     6033      842       4  997454429\n",
       "569236     6033      179       4  997454464\n",
       "\n",
       "[569237 rows x 4 columns]"
      ]
     },
     "execution_count": 9,
     "metadata": {},
     "output_type": "execute_result"
    }
   ],
   "source": [
    "(\n",
    "    sorted_df_to_split\n",
    "    .groupby('user_id')\n",
    "    .apply(lambda row: row[:-1], include_groups=False)\n",
    "    .reset_index()\n",
    "    .drop(columns=['level_1'])\n",
    ")"
   ]
  },
  {
   "cell_type": "code",
   "execution_count": 47,
   "metadata": {},
   "outputs": [
    {
     "data": {
      "text/html": [
       "<div>\n",
       "<style scoped>\n",
       "    .dataframe tbody tr th:only-of-type {\n",
       "        vertical-align: middle;\n",
       "    }\n",
       "\n",
       "    .dataframe tbody tr th {\n",
       "        vertical-align: top;\n",
       "    }\n",
       "\n",
       "    .dataframe thead th {\n",
       "        text-align: right;\n",
       "    }\n",
       "</style>\n",
       "<table border=\"1\" class=\"dataframe\">\n",
       "  <thead>\n",
       "    <tr style=\"text-align: right;\">\n",
       "      <th></th>\n",
       "      <th>user_id</th>\n",
       "      <th>item_id</th>\n",
       "      <th>rating</th>\n",
       "      <th>timestamp</th>\n",
       "    </tr>\n",
       "  </thead>\n",
       "  <tbody>\n",
       "    <tr>\n",
       "      <th>0</th>\n",
       "      <td>0</td>\n",
       "      <td>22</td>\n",
       "      <td>4</td>\n",
       "      <td>978300019</td>\n",
       "    </tr>\n",
       "    <tr>\n",
       "      <th>1</th>\n",
       "      <td>0</td>\n",
       "      <td>15</td>\n",
       "      <td>5</td>\n",
       "      <td>978300055</td>\n",
       "    </tr>\n",
       "    <tr>\n",
       "      <th>2</th>\n",
       "      <td>0</td>\n",
       "      <td>19</td>\n",
       "      <td>4</td>\n",
       "      <td>978300055</td>\n",
       "    </tr>\n",
       "    <tr>\n",
       "      <th>3</th>\n",
       "      <td>0</td>\n",
       "      <td>28</td>\n",
       "      <td>5</td>\n",
       "      <td>978300055</td>\n",
       "    </tr>\n",
       "    <tr>\n",
       "      <th>4</th>\n",
       "      <td>0</td>\n",
       "      <td>27</td>\n",
       "      <td>5</td>\n",
       "      <td>978300172</td>\n",
       "    </tr>\n",
       "    <tr>\n",
       "      <th>...</th>\n",
       "      <td>...</td>\n",
       "      <td>...</td>\n",
       "      <td>...</td>\n",
       "      <td>...</td>\n",
       "    </tr>\n",
       "    <tr>\n",
       "      <th>457807</th>\n",
       "      <td>6033</td>\n",
       "      <td>903</td>\n",
       "      <td>4</td>\n",
       "      <td>960972016</td>\n",
       "    </tr>\n",
       "    <tr>\n",
       "      <th>457808</th>\n",
       "      <td>6033</td>\n",
       "      <td>1078</td>\n",
       "      <td>4</td>\n",
       "      <td>960972032</td>\n",
       "    </tr>\n",
       "    <tr>\n",
       "      <th>457809</th>\n",
       "      <td>6033</td>\n",
       "      <td>336</td>\n",
       "      <td>4</td>\n",
       "      <td>960972645</td>\n",
       "    </tr>\n",
       "    <tr>\n",
       "      <th>457810</th>\n",
       "      <td>6033</td>\n",
       "      <td>344</td>\n",
       "      <td>4</td>\n",
       "      <td>960972693</td>\n",
       "    </tr>\n",
       "    <tr>\n",
       "      <th>457811</th>\n",
       "      <td>6033</td>\n",
       "      <td>1079</td>\n",
       "      <td>4</td>\n",
       "      <td>960972693</td>\n",
       "    </tr>\n",
       "  </tbody>\n",
       "</table>\n",
       "<p>457812 rows × 4 columns</p>\n",
       "</div>"
      ],
      "text/plain": [
       "        user_id  item_id  rating  timestamp\n",
       "0             0       22       4  978300019\n",
       "1             0       15       5  978300055\n",
       "2             0       19       4  978300055\n",
       "3             0       28       5  978300055\n",
       "4             0       27       5  978300172\n",
       "...         ...      ...     ...        ...\n",
       "457807     6033      903       4  960972016\n",
       "457808     6033     1078       4  960972032\n",
       "457809     6033      336       4  960972645\n",
       "457810     6033      344       4  960972693\n",
       "457811     6033     1079       4  960972693\n",
       "\n",
       "[457812 rows x 4 columns]"
      ]
     },
     "execution_count": 47,
     "metadata": {},
     "output_type": "execute_result"
    }
   ],
   "source": [
    "te = (sorted_df_to_split\n",
    "    .groupby('user_id')\n",
    "    .apply(lambda row: row[:-np.ceil(len(row) * 0.2).astype('int')], include_groups=False)\n",
    "    .reset_index()\n",
    "    .drop(columns=['level_1']))\n",
    "\n",
    "te"
   ]
  },
  {
   "cell_type": "code",
   "execution_count": 58,
   "metadata": {},
   "outputs": [],
   "source": [
    "def _process_to_split(self, func_to_apply):\n",
    "    return (\n",
    "        self.sorted_items_to_split.apply(func_to_apply, include_groups=False)\n",
    "        .reset_index()\n",
    "        .drop(columns=[\"level_1\"])\n",
    "    )"
   ]
  },
  {
   "cell_type": "code",
   "execution_count": 56,
   "metadata": {},
   "outputs": [],
   "source": [
    "def bound(row, ratio):\n",
    "    return np.ceil(len(row) * ratio).astype('int')"
   ]
  },
  {
   "cell_type": "code",
   "execution_count": null,
   "metadata": {},
   "outputs": [],
   "source": [
    "train_val_input = _process_to_split(lambda row: row.iloc[:-bound(row, val_ratio + test_ratio)])\n",
    "\n",
    "train_val_input"
   ]
  },
  {
   "cell_type": "code",
   "execution_count": 57,
   "metadata": {},
   "outputs": [
    {
     "data": {
      "text/html": [
       "<div>\n",
       "<style scoped>\n",
       "    .dataframe tbody tr th:only-of-type {\n",
       "        vertical-align: middle;\n",
       "    }\n",
       "\n",
       "    .dataframe tbody tr th {\n",
       "        vertical-align: top;\n",
       "    }\n",
       "\n",
       "    .dataframe thead th {\n",
       "        text-align: right;\n",
       "    }\n",
       "</style>\n",
       "<table border=\"1\" class=\"dataframe\">\n",
       "  <thead>\n",
       "    <tr style=\"text-align: right;\">\n",
       "      <th></th>\n",
       "      <th>user_id</th>\n",
       "      <th>item_id</th>\n",
       "      <th>rating</th>\n",
       "      <th>timestamp</th>\n",
       "    </tr>\n",
       "  </thead>\n",
       "  <tbody>\n",
       "    <tr>\n",
       "      <th>0</th>\n",
       "      <td>0</td>\n",
       "      <td>22</td>\n",
       "      <td>4</td>\n",
       "      <td>978300019</td>\n",
       "    </tr>\n",
       "    <tr>\n",
       "      <th>1</th>\n",
       "      <td>0</td>\n",
       "      <td>15</td>\n",
       "      <td>5</td>\n",
       "      <td>978300055</td>\n",
       "    </tr>\n",
       "    <tr>\n",
       "      <th>2</th>\n",
       "      <td>0</td>\n",
       "      <td>19</td>\n",
       "      <td>4</td>\n",
       "      <td>978300055</td>\n",
       "    </tr>\n",
       "    <tr>\n",
       "      <th>3</th>\n",
       "      <td>0</td>\n",
       "      <td>28</td>\n",
       "      <td>5</td>\n",
       "      <td>978300055</td>\n",
       "    </tr>\n",
       "    <tr>\n",
       "      <th>4</th>\n",
       "      <td>0</td>\n",
       "      <td>27</td>\n",
       "      <td>5</td>\n",
       "      <td>978300172</td>\n",
       "    </tr>\n",
       "    <tr>\n",
       "      <th>...</th>\n",
       "      <td>...</td>\n",
       "      <td>...</td>\n",
       "      <td>...</td>\n",
       "      <td>...</td>\n",
       "    </tr>\n",
       "    <tr>\n",
       "      <th>457807</th>\n",
       "      <td>6033</td>\n",
       "      <td>903</td>\n",
       "      <td>4</td>\n",
       "      <td>960972016</td>\n",
       "    </tr>\n",
       "    <tr>\n",
       "      <th>457808</th>\n",
       "      <td>6033</td>\n",
       "      <td>1078</td>\n",
       "      <td>4</td>\n",
       "      <td>960972032</td>\n",
       "    </tr>\n",
       "    <tr>\n",
       "      <th>457809</th>\n",
       "      <td>6033</td>\n",
       "      <td>336</td>\n",
       "      <td>4</td>\n",
       "      <td>960972645</td>\n",
       "    </tr>\n",
       "    <tr>\n",
       "      <th>457810</th>\n",
       "      <td>6033</td>\n",
       "      <td>344</td>\n",
       "      <td>4</td>\n",
       "      <td>960972693</td>\n",
       "    </tr>\n",
       "    <tr>\n",
       "      <th>457811</th>\n",
       "      <td>6033</td>\n",
       "      <td>1079</td>\n",
       "      <td>4</td>\n",
       "      <td>960972693</td>\n",
       "    </tr>\n",
       "  </tbody>\n",
       "</table>\n",
       "<p>457812 rows × 4 columns</p>\n",
       "</div>"
      ],
      "text/plain": [
       "        user_id  item_id  rating  timestamp\n",
       "0             0       22       4  978300019\n",
       "1             0       15       5  978300055\n",
       "2             0       19       4  978300055\n",
       "3             0       28       5  978300055\n",
       "4             0       27       5  978300172\n",
       "...         ...      ...     ...        ...\n",
       "457807     6033      903       4  960972016\n",
       "457808     6033     1078       4  960972032\n",
       "457809     6033      336       4  960972645\n",
       "457810     6033      344       4  960972693\n",
       "457811     6033     1079       4  960972693\n",
       "\n",
       "[457812 rows x 4 columns]"
      ]
     },
     "execution_count": 57,
     "metadata": {},
     "output_type": "execute_result"
    }
   ],
   "source": [
    "train_val_input = (sorted_df_to_split\n",
    "                    .groupby('user_id')\n",
    "                    .apply(lambda row: row.iloc[:-bound(row, val_ratio + test_ratio)], include_groups=False)\n",
    "                    .reset_index()\n",
    "                    .drop(columns=['level_1'])\n",
    "                    )\n",
    "\n",
    "train_val_input"
   ]
  },
  {
   "cell_type": "code",
   "execution_count": 54,
   "metadata": {},
   "outputs": [
    {
     "ename": "SyntaxError",
     "evalue": "'[' was never closed (3089704187.py, line 5)",
     "output_type": "error",
     "traceback": [
      "\u001b[0;36m  Cell \u001b[0;32mIn[54], line 5\u001b[0;36m\u001b[0m\n\u001b[0;31m    train_val_splitter = lambda row: row[-np.ceil(len(row) * val_ratio).astype('int'):[-np.ceil(len(row) * val_ratio).astype('int')]\u001b[0m\n\u001b[0m                                        ^\u001b[0m\n\u001b[0;31mSyntaxError\u001b[0m\u001b[0;31m:\u001b[0m '[' was never closed\n"
     ]
    }
   ],
   "source": [
    "test_ratio = 0.1\n",
    "val_ratio = 0.1\n",
    "\n",
    "train_val_splitter = lambda row: row[:-np.ceil(len(row) * val_ratio).astype('int')]\n",
    "train_val_splitter = lambda row: row[-np.ceil(len(row) * val_ratio).astype('int'):[-np.ceil(len(row) * val_ratio).astype('int')]\n",
    "test_bound = lambda row: np.ceil(len(row) * test_ratio).astype('int')\n",
    "val_bound = lambda row: np.ceil(len(row) * val_ratio).astype('int')"
   ]
  },
  {
   "cell_type": "code",
   "execution_count": null,
   "metadata": {},
   "outputs": [],
   "source": [
    "train_val_input = self.sorted_items_to_split.apply(\n",
    "            lambda row: row.iloc[:-2], include_groups=False\n",
    "        ).reset_index().drop(columns=[\"level_1\"])\n",
    "\n",
    "val_label = self.sorted_items_to_split.apply(\n",
    "    lambda row: row.iloc[-2:-1], include_groups=False\n",
    ").reset_index().drop(columns=[\"level_1\"])\n",
    "\n",
    "test_input = self.sorted_items_to_split.apply(\n",
    "    lambda row: row.iloc[:-1], include_groups=False\n",
    ").reset_index().drop(columns=[\"level_1\"])\n",
    "\n",
    "test_label = self.sorted_items_to_split.apply(\n",
    "    lambda row: row.iloc[-1:], include_groups=False\n",
    ").reset_index().drop(columns=[\"level_1\"])"
   ]
  },
  {
   "cell_type": "code",
   "execution_count": 26,
   "metadata": {},
   "outputs": [
    {
     "data": {
      "text/plain": [
       "item_id\n",
       "2          839\n",
       "3          760\n",
       "4          548\n",
       "5          447\n",
       "6          389\n",
       "          ... \n",
       "69           1\n",
       "68           1\n",
       "67           1\n",
       "66           1\n",
       "144          1\n",
       "Name: count, Length: 76, dtype: int64"
      ]
     },
     "execution_count": 26,
     "metadata": {},
     "output_type": "execute_result"
    }
   ],
   "source": [
    "te.groupby('user_id')[['item_id']].count().value_counts()"
   ]
  },
  {
   "cell_type": "code",
   "execution_count": 16,
   "metadata": {},
   "outputs": [
    {
     "data": {
      "text/html": [
       "<div>\n",
       "<style scoped>\n",
       "    .dataframe tbody tr th:only-of-type {\n",
       "        vertical-align: middle;\n",
       "    }\n",
       "\n",
       "    .dataframe tbody tr th {\n",
       "        vertical-align: top;\n",
       "    }\n",
       "\n",
       "    .dataframe thead th {\n",
       "        text-align: right;\n",
       "    }\n",
       "</style>\n",
       "<table border=\"1\" class=\"dataframe\">\n",
       "  <thead>\n",
       "    <tr style=\"text-align: right;\">\n",
       "      <th></th>\n",
       "      <th>user_id</th>\n",
       "      <th>item_id</th>\n",
       "      <th>rating</th>\n",
       "      <th>timestamp</th>\n",
       "    </tr>\n",
       "  </thead>\n",
       "  <tbody>\n",
       "    <tr>\n",
       "      <th>0</th>\n",
       "      <td>0</td>\n",
       "      <td>22</td>\n",
       "      <td>4</td>\n",
       "      <td>978300019</td>\n",
       "    </tr>\n",
       "    <tr>\n",
       "      <th>1</th>\n",
       "      <td>0</td>\n",
       "      <td>15</td>\n",
       "      <td>5</td>\n",
       "      <td>978300055</td>\n",
       "    </tr>\n",
       "    <tr>\n",
       "      <th>2</th>\n",
       "      <td>0</td>\n",
       "      <td>19</td>\n",
       "      <td>4</td>\n",
       "      <td>978300055</td>\n",
       "    </tr>\n",
       "    <tr>\n",
       "      <th>3</th>\n",
       "      <td>0</td>\n",
       "      <td>28</td>\n",
       "      <td>5</td>\n",
       "      <td>978300055</td>\n",
       "    </tr>\n",
       "    <tr>\n",
       "      <th>4</th>\n",
       "      <td>0</td>\n",
       "      <td>27</td>\n",
       "      <td>5</td>\n",
       "      <td>978300172</td>\n",
       "    </tr>\n",
       "    <tr>\n",
       "      <th>...</th>\n",
       "      <td>...</td>\n",
       "      <td>...</td>\n",
       "      <td>...</td>\n",
       "      <td>...</td>\n",
       "    </tr>\n",
       "    <tr>\n",
       "      <th>520496</th>\n",
       "      <td>6033</td>\n",
       "      <td>1708</td>\n",
       "      <td>4</td>\n",
       "      <td>964828652</td>\n",
       "    </tr>\n",
       "    <tr>\n",
       "      <th>520497</th>\n",
       "      <td>6033</td>\n",
       "      <td>253</td>\n",
       "      <td>4</td>\n",
       "      <td>964828706</td>\n",
       "    </tr>\n",
       "    <tr>\n",
       "      <th>520498</th>\n",
       "      <td>6033</td>\n",
       "      <td>2088</td>\n",
       "      <td>4</td>\n",
       "      <td>964828734</td>\n",
       "    </tr>\n",
       "    <tr>\n",
       "      <th>520499</th>\n",
       "      <td>6033</td>\n",
       "      <td>1907</td>\n",
       "      <td>4</td>\n",
       "      <td>964828734</td>\n",
       "    </tr>\n",
       "    <tr>\n",
       "      <th>520500</th>\n",
       "      <td>6033</td>\n",
       "      <td>327</td>\n",
       "      <td>4</td>\n",
       "      <td>964828782</td>\n",
       "    </tr>\n",
       "  </tbody>\n",
       "</table>\n",
       "<p>520501 rows × 4 columns</p>\n",
       "</div>"
      ],
      "text/plain": [
       "        user_id  item_id  rating  timestamp\n",
       "0             0       22       4  978300019\n",
       "1             0       15       5  978300055\n",
       "2             0       19       4  978300055\n",
       "3             0       28       5  978300055\n",
       "4             0       27       5  978300172\n",
       "...         ...      ...     ...        ...\n",
       "520496     6033     1708       4  964828652\n",
       "520497     6033      253       4  964828706\n",
       "520498     6033     2088       4  964828734\n",
       "520499     6033     1907       4  964828734\n",
       "520500     6033      327       4  964828782\n",
       "\n",
       "[520501 rows x 4 columns]"
      ]
     },
     "execution_count": 16,
     "metadata": {},
     "output_type": "execute_result"
    }
   ],
   "source": [
    "(sorted_df_to_split\n",
    "    .groupby('user_id')\n",
    "    .apply(lambda row: row[:np.ceil(len(row) * 0.9).astype('int')], include_groups=False)\n",
    "    .reset_index()\n",
    "    .drop(columns=['level_1']))"
   ]
  },
  {
   "cell_type": "code",
   "execution_count": 9,
   "metadata": {},
   "outputs": [],
   "source": [
    "def _encode_tfidf(interactions: pd.DataFrame) -> pd.DataFrame:\n",
    "\n",
    "    rating_sum_per_user = interactions.groupby(\"user_id\")[\"rating\"].transform(\"sum\")\n",
    "    user_count_per_element = interactions.groupby(\"item_id\")[\"user_id\"].transform(\"size\")\n",
    "    \n",
    "    tf = interactions[\"rating\"].values / rating_sum_per_user.values\n",
    "    idf = np.log(len(rating_sum_per_user) / user_count_per_element.values)\n",
    "\n",
    "    tfidf_values = tf * idf\n",
    "\n",
    "    return tfidf_values\n",
    "\n",
    "def _convert_to_sparse(interactions_df, use_tfidf=True) -> csr_matrix:\n",
    "    if use_tfidf:\n",
    "        sparse_matrix_values = _encode_tfidf(interactions_df)\n",
    "    else:\n",
    "        sparse_matrix_values = np.ones(interactions_df.shape[0])\n",
    "\n",
    "    # user_index = interactions_df[\"user_id\"].astype(\"category\").cat.codes.values\n",
    "    user_index = interactions_df[\"user_id\"].values\n",
    "    item_index = interactions_df[\"item_id\"].values\n",
    "    assert len(user_index) == len(item_index)\n",
    "\n",
    "    sparse_interactions = csr_matrix(\n",
    "        (\n",
    "            sparse_matrix_values,\n",
    "            ([user_index, item_index]),\n",
    "        ),\n",
    "        shape=(unique_user_num, unique_item_num),\n",
    "    )\n",
    "\n",
    "    return sparse_interactions"
   ]
  },
  {
   "cell_type": "code",
   "execution_count": 10,
   "metadata": {},
   "outputs": [],
   "source": [
    "train_sparse = _convert_to_sparse(train)"
   ]
  },
  {
   "cell_type": "code",
   "execution_count": 7,
   "metadata": {},
   "outputs": [],
   "source": [
    "user_index = train[\"user_id\"].astype(\"category\").cat.codes.values\n",
    "item_index = train[\"item_id\"].values"
   ]
  },
  {
   "cell_type": "code",
   "execution_count": 8,
   "metadata": {},
   "outputs": [],
   "source": [
    "p = {'factors': 1019,\n",
    "                   'iterations': 548,\n",
    "                   'regularization': 0.8558091333940743,\n",
    "                   'alpha': 56},"
   ]
  },
  {
   "cell_type": "code",
   "execution_count": 11,
   "metadata": {},
   "outputs": [],
   "source": [
    "from implicit.cpu.als import AlternatingLeastSquares"
   ]
  },
  {
   "cell_type": "code",
   "execution_count": 12,
   "metadata": {},
   "outputs": [
    {
     "name": "stderr",
     "output_type": "stream",
     "text": [
      "/home/kate/miniconda3/envs/diploma/lib/python3.10/site-packages/implicit/cpu/als.py:95: RuntimeWarning: OpenBLAS is configured to use 28 threads. It is highly recommended to disable its internal threadpool by setting the environment variable 'OPENBLAS_NUM_THREADS=1' or by calling 'threadpoolctl.threadpool_limits(1, \"blas\")'. Having OpenBLAS use a threadpool can lead to severe performance issues here.\n",
      "  check_blas_config()\n"
     ]
    }
   ],
   "source": [
    "als = AlternatingLeastSquares(\n",
    "        calculate_training_loss=True\n",
    "        )\n"
   ]
  },
  {
   "cell_type": "code",
   "execution_count": 13,
   "metadata": {},
   "outputs": [
    {
     "data": {
      "application/vnd.jupyter.widget-view+json": {
       "model_id": "c52020961e2b4248af99e030b26e1ba5",
       "version_major": 2,
       "version_minor": 0
      },
      "text/plain": [
       "  0%|          | 0/15 [00:00<?, ?it/s]"
      ]
     },
     "metadata": {},
     "output_type": "display_data"
    }
   ],
   "source": [
    "als.fit(train_sparse)"
   ]
  },
  {
   "cell_type": "code",
   "execution_count": 13,
   "metadata": {},
   "outputs": [],
   "source": [
    "als.save('als')"
   ]
  },
  {
   "cell_type": "code",
   "execution_count": 17,
   "metadata": {},
   "outputs": [
    {
     "data": {
      "text/plain": [
       "<implicit.cpu.als.AlternatingLeastSquares at 0x73a125dc1030>"
      ]
     },
     "execution_count": 17,
     "metadata": {},
     "output_type": "execute_result"
    }
   ],
   "source": [
    "als.load('als.npz')"
   ]
  },
  {
   "cell_type": "code",
   "execution_count": 24,
   "metadata": {},
   "outputs": [],
   "source": [
    "del als"
   ]
  },
  {
   "cell_type": "code",
   "execution_count": 20,
   "metadata": {},
   "outputs": [],
   "source": [
    "als = als.load('als.npz')"
   ]
  },
  {
   "cell_type": "code",
   "execution_count": 43,
   "metadata": {},
   "outputs": [
    {
     "data": {
      "text/plain": [
       "array([   0,    1,    2, ..., 6031, 6032, 6033])"
      ]
     },
     "execution_count": 43,
     "metadata": {},
     "output_type": "execute_result"
    }
   ],
   "source": [
    "train[\"user_id\"].unique()"
   ]
  },
  {
   "cell_type": "code",
   "execution_count": 29,
   "metadata": {},
   "outputs": [
    {
     "data": {
      "text/plain": [
       "implicit.cpu.als.AlternatingLeastSquares"
      ]
     },
     "execution_count": 29,
     "metadata": {},
     "output_type": "execute_result"
    }
   ],
   "source": [
    "type(als)"
   ]
  },
  {
   "cell_type": "code",
   "execution_count": 28,
   "metadata": {},
   "outputs": [
    {
     "ename": "TypeError",
     "evalue": "isinstance() arg 2 must be a type, a tuple of types, or a union",
     "output_type": "error",
     "traceback": [
      "\u001b[0;31m---------------------------------------------------------------------------\u001b[0m",
      "\u001b[0;31mTypeError\u001b[0m                                 Traceback (most recent call last)",
      "Cell \u001b[0;32mIn[28], line 1\u001b[0m\n\u001b[0;32m----> 1\u001b[0m \u001b[38;5;28;43misinstance\u001b[39;49m\u001b[43m(\u001b[49m\u001b[43mals\u001b[49m\u001b[43m,\u001b[49m\u001b[43m \u001b[49m\u001b[38;5;28;43;01mNone\u001b[39;49;00m\u001b[43m)\u001b[49m\n",
      "\u001b[0;31mTypeError\u001b[0m: isinstance() arg 2 must be a type, a tuple of types, or a union"
     ]
    }
   ],
   "source": [
    "isinstance(als, None)"
   ]
  },
  {
   "cell_type": "code",
   "execution_count": 31,
   "metadata": {},
   "outputs": [
    {
     "data": {
      "text/plain": [
       "<6034x3533 sparse matrix of type '<class 'numpy.float64'>'\n",
       "\twith 569237 stored elements in Compressed Sparse Row format>"
      ]
     },
     "execution_count": 31,
     "metadata": {},
     "output_type": "execute_result"
    }
   ],
   "source": [
    "train_sparse"
   ]
  },
  {
   "cell_type": "code",
   "execution_count": 14,
   "metadata": {},
   "outputs": [],
   "source": [
    "als_recommendations_matrix, als_recommendations_scores = als.recommend(\n",
    "    train[\"user_id\"].unique(),\n",
    "    train_sparse,\n",
    "    N=10,\n",
    "    filter_already_liked_items=True\n",
    ")"
   ]
  },
  {
   "cell_type": "code",
   "execution_count": 15,
   "metadata": {},
   "outputs": [],
   "source": [
    "from sklearn.metrics import ndcg_score"
   ]
  },
  {
   "cell_type": "code",
   "execution_count": 38,
   "metadata": {},
   "outputs": [
    {
     "data": {
      "text/html": [
       "<div>\n",
       "<style scoped>\n",
       "    .dataframe tbody tr th:only-of-type {\n",
       "        vertical-align: middle;\n",
       "    }\n",
       "\n",
       "    .dataframe tbody tr th {\n",
       "        vertical-align: top;\n",
       "    }\n",
       "\n",
       "    .dataframe thead th {\n",
       "        text-align: right;\n",
       "    }\n",
       "</style>\n",
       "<table border=\"1\" class=\"dataframe\">\n",
       "  <thead>\n",
       "    <tr style=\"text-align: right;\">\n",
       "      <th></th>\n",
       "      <th>user_id</th>\n",
       "      <th>item_id</th>\n",
       "      <th>rating</th>\n",
       "      <th>timestamp</th>\n",
       "    </tr>\n",
       "  </thead>\n",
       "  <tbody>\n",
       "    <tr>\n",
       "      <th>0</th>\n",
       "      <td>0</td>\n",
       "      <td>17</td>\n",
       "      <td>5</td>\n",
       "      <td>978824351</td>\n",
       "    </tr>\n",
       "    <tr>\n",
       "      <th>1</th>\n",
       "      <td>1</td>\n",
       "      <td>61</td>\n",
       "      <td>4</td>\n",
       "      <td>978300174</td>\n",
       "    </tr>\n",
       "    <tr>\n",
       "      <th>2</th>\n",
       "      <td>2</td>\n",
       "      <td>138</td>\n",
       "      <td>4</td>\n",
       "      <td>978298504</td>\n",
       "    </tr>\n",
       "    <tr>\n",
       "      <th>3</th>\n",
       "      <td>3</td>\n",
       "      <td>91</td>\n",
       "      <td>5</td>\n",
       "      <td>978294282</td>\n",
       "    </tr>\n",
       "    <tr>\n",
       "      <th>4</th>\n",
       "      <td>4</td>\n",
       "      <td>192</td>\n",
       "      <td>4</td>\n",
       "      <td>978246555</td>\n",
       "    </tr>\n",
       "    <tr>\n",
       "      <th>...</th>\n",
       "      <td>...</td>\n",
       "      <td>...</td>\n",
       "      <td>...</td>\n",
       "      <td>...</td>\n",
       "    </tr>\n",
       "    <tr>\n",
       "      <th>6029</th>\n",
       "      <td>6029</td>\n",
       "      <td>1818</td>\n",
       "      <td>4</td>\n",
       "      <td>956754710</td>\n",
       "    </tr>\n",
       "    <tr>\n",
       "      <th>6030</th>\n",
       "      <td>6030</td>\n",
       "      <td>670</td>\n",
       "      <td>4</td>\n",
       "      <td>956801840</td>\n",
       "    </tr>\n",
       "    <tr>\n",
       "      <th>6031</th>\n",
       "      <td>6031</td>\n",
       "      <td>1172</td>\n",
       "      <td>5</td>\n",
       "      <td>956717204</td>\n",
       "    </tr>\n",
       "    <tr>\n",
       "      <th>6032</th>\n",
       "      <td>6032</td>\n",
       "      <td>934</td>\n",
       "      <td>4</td>\n",
       "      <td>956758029</td>\n",
       "    </tr>\n",
       "    <tr>\n",
       "      <th>6033</th>\n",
       "      <td>6033</td>\n",
       "      <td>264</td>\n",
       "      <td>4</td>\n",
       "      <td>998315055</td>\n",
       "    </tr>\n",
       "  </tbody>\n",
       "</table>\n",
       "<p>6034 rows × 4 columns</p>\n",
       "</div>"
      ],
      "text/plain": [
       "      user_id  item_id  rating  timestamp\n",
       "0           0       17       5  978824351\n",
       "1           1       61       4  978300174\n",
       "2           2      138       4  978298504\n",
       "3           3       91       5  978294282\n",
       "4           4      192       4  978246555\n",
       "...       ...      ...     ...        ...\n",
       "6029     6029     1818       4  956754710\n",
       "6030     6030      670       4  956801840\n",
       "6031     6031     1172       5  956717204\n",
       "6032     6032      934       4  956758029\n",
       "6033     6033      264       4  998315055\n",
       "\n",
       "[6034 rows x 4 columns]"
      ]
     },
     "execution_count": 38,
     "metadata": {},
     "output_type": "execute_result"
    }
   ],
   "source": [
    "test"
   ]
  },
  {
   "cell_type": "code",
   "execution_count": 32,
   "metadata": {},
   "outputs": [
    {
     "data": {
      "text/html": [
       "<div>\n",
       "<style scoped>\n",
       "    .dataframe tbody tr th:only-of-type {\n",
       "        vertical-align: middle;\n",
       "    }\n",
       "\n",
       "    .dataframe tbody tr th {\n",
       "        vertical-align: top;\n",
       "    }\n",
       "\n",
       "    .dataframe thead th {\n",
       "        text-align: right;\n",
       "    }\n",
       "</style>\n",
       "<table border=\"1\" class=\"dataframe\">\n",
       "  <thead>\n",
       "    <tr style=\"text-align: right;\">\n",
       "      <th></th>\n",
       "      <th>user_id</th>\n",
       "      <th>item_id</th>\n",
       "      <th>score</th>\n",
       "    </tr>\n",
       "  </thead>\n",
       "  <tbody>\n",
       "    <tr>\n",
       "      <th>0</th>\n",
       "      <td>0</td>\n",
       "      <td>226</td>\n",
       "      <td>0.317816</td>\n",
       "    </tr>\n",
       "    <tr>\n",
       "      <th>1</th>\n",
       "      <td>0</td>\n",
       "      <td>138</td>\n",
       "      <td>0.136776</td>\n",
       "    </tr>\n",
       "    <tr>\n",
       "      <th>2</th>\n",
       "      <td>0</td>\n",
       "      <td>337</td>\n",
       "      <td>0.099589</td>\n",
       "    </tr>\n",
       "    <tr>\n",
       "      <th>3</th>\n",
       "      <td>0</td>\n",
       "      <td>383</td>\n",
       "      <td>0.059741</td>\n",
       "    </tr>\n",
       "    <tr>\n",
       "      <th>4</th>\n",
       "      <td>0</td>\n",
       "      <td>503</td>\n",
       "      <td>0.055705</td>\n",
       "    </tr>\n",
       "    <tr>\n",
       "      <th>...</th>\n",
       "      <td>...</td>\n",
       "      <td>...</td>\n",
       "      <td>...</td>\n",
       "    </tr>\n",
       "    <tr>\n",
       "      <th>60335</th>\n",
       "      <td>6033</td>\n",
       "      <td>113</td>\n",
       "      <td>0.048448</td>\n",
       "    </tr>\n",
       "    <tr>\n",
       "      <th>60336</th>\n",
       "      <td>6033</td>\n",
       "      <td>338</td>\n",
       "      <td>0.048427</td>\n",
       "    </tr>\n",
       "    <tr>\n",
       "      <th>60337</th>\n",
       "      <td>6033</td>\n",
       "      <td>443</td>\n",
       "      <td>0.044363</td>\n",
       "    </tr>\n",
       "    <tr>\n",
       "      <th>60338</th>\n",
       "      <td>6033</td>\n",
       "      <td>941</td>\n",
       "      <td>0.043985</td>\n",
       "    </tr>\n",
       "    <tr>\n",
       "      <th>60339</th>\n",
       "      <td>6033</td>\n",
       "      <td>483</td>\n",
       "      <td>0.043727</td>\n",
       "    </tr>\n",
       "  </tbody>\n",
       "</table>\n",
       "<p>60340 rows × 3 columns</p>\n",
       "</div>"
      ],
      "text/plain": [
       "       user_id item_id     score\n",
       "0            0     226  0.317816\n",
       "1            0     138  0.136776\n",
       "2            0     337  0.099589\n",
       "3            0     383  0.059741\n",
       "4            0     503  0.055705\n",
       "...        ...     ...       ...\n",
       "60335     6033     113  0.048448\n",
       "60336     6033     338  0.048427\n",
       "60337     6033     443  0.044363\n",
       "60338     6033     941  0.043985\n",
       "60339     6033     483  0.043727\n",
       "\n",
       "[60340 rows x 3 columns]"
      ]
     },
     "execution_count": 32,
     "metadata": {},
     "output_type": "execute_result"
    }
   ],
   "source": [
    "df = pd.DataFrame({\n",
    "        'user_id': np.arange(0, len(als_recommendations_matrix)),\n",
    "        'item_id': list(als_recommendations_matrix),\n",
    "        'score': list(als_recommendations_scores),\n",
    "    })\n",
    "    \n",
    "recommendations = (\n",
    "        df\n",
    "        .explode(['item_id', 'score'], ignore_index=True)\n",
    "    )\n",
    "\n",
    "recommendations"
   ]
  },
  {
   "cell_type": "code",
   "execution_count": 24,
   "metadata": {},
   "outputs": [
    {
     "data": {
      "text/html": [
       "<div>\n",
       "<style scoped>\n",
       "    .dataframe tbody tr th:only-of-type {\n",
       "        vertical-align: middle;\n",
       "    }\n",
       "\n",
       "    .dataframe tbody tr th {\n",
       "        vertical-align: top;\n",
       "    }\n",
       "\n",
       "    .dataframe thead th {\n",
       "        text-align: right;\n",
       "    }\n",
       "</style>\n",
       "<table border=\"1\" class=\"dataframe\">\n",
       "  <thead>\n",
       "    <tr style=\"text-align: right;\">\n",
       "      <th></th>\n",
       "      <th>user_id</th>\n",
       "      <th>item_id</th>\n",
       "      <th>score</th>\n",
       "    </tr>\n",
       "  </thead>\n",
       "  <tbody>\n",
       "    <tr>\n",
       "      <th>0</th>\n",
       "      <td>0</td>\n",
       "      <td>226</td>\n",
       "      <td>0.075352</td>\n",
       "    </tr>\n",
       "    <tr>\n",
       "      <th>1</th>\n",
       "      <td>0</td>\n",
       "      <td>219</td>\n",
       "      <td>0.050722</td>\n",
       "    </tr>\n",
       "    <tr>\n",
       "      <th>2</th>\n",
       "      <td>0</td>\n",
       "      <td>138</td>\n",
       "      <td>0.049738</td>\n",
       "    </tr>\n",
       "    <tr>\n",
       "      <th>3</th>\n",
       "      <td>0</td>\n",
       "      <td>503</td>\n",
       "      <td>0.045629</td>\n",
       "    </tr>\n",
       "    <tr>\n",
       "      <th>4</th>\n",
       "      <td>0</td>\n",
       "      <td>282</td>\n",
       "      <td>0.043646</td>\n",
       "    </tr>\n",
       "    <tr>\n",
       "      <th>...</th>\n",
       "      <td>...</td>\n",
       "      <td>...</td>\n",
       "      <td>...</td>\n",
       "    </tr>\n",
       "    <tr>\n",
       "      <th>60335</th>\n",
       "      <td>6033</td>\n",
       "      <td>734</td>\n",
       "      <td>0.055205</td>\n",
       "    </tr>\n",
       "    <tr>\n",
       "      <th>60336</th>\n",
       "      <td>6033</td>\n",
       "      <td>940</td>\n",
       "      <td>0.052575</td>\n",
       "    </tr>\n",
       "    <tr>\n",
       "      <th>60337</th>\n",
       "      <td>6033</td>\n",
       "      <td>526</td>\n",
       "      <td>0.052311</td>\n",
       "    </tr>\n",
       "    <tr>\n",
       "      <th>60338</th>\n",
       "      <td>6033</td>\n",
       "      <td>941</td>\n",
       "      <td>0.050701</td>\n",
       "    </tr>\n",
       "    <tr>\n",
       "      <th>60339</th>\n",
       "      <td>6033</td>\n",
       "      <td>326</td>\n",
       "      <td>0.05064</td>\n",
       "    </tr>\n",
       "  </tbody>\n",
       "</table>\n",
       "<p>60340 rows × 3 columns</p>\n",
       "</div>"
      ],
      "text/plain": [
       "       user_id item_id     score\n",
       "0            0     226  0.075352\n",
       "1            0     219  0.050722\n",
       "2            0     138  0.049738\n",
       "3            0     503  0.045629\n",
       "4            0     282  0.043646\n",
       "...        ...     ...       ...\n",
       "60335     6033     734  0.055205\n",
       "60336     6033     940  0.052575\n",
       "60337     6033     526  0.052311\n",
       "60338     6033     941  0.050701\n",
       "60339     6033     326   0.05064\n",
       "\n",
       "[60340 rows x 3 columns]"
      ]
     },
     "execution_count": 24,
     "metadata": {},
     "output_type": "execute_result"
    }
   ],
   "source": [
    "recommendations = (\n",
    "        df\n",
    "        .explode(['item_id', 'score'], ignore_index=True)\n",
    "    )\n",
    "\n",
    "recommendations"
   ]
  },
  {
   "cell_type": "code",
   "execution_count": null,
   "metadata": {},
   "outputs": [],
   "source": [
    "def hits_per_user(recommended, label) -> Optional[np.ndarray]:\n",
    "    if predicted is None:\n",
    "        return None\n",
    "\n",
    "    # assert label is not None\n",
    "    # assert len(label) > 0\n",
    "\n",
    "    predicted_np = np.array(predicted[:metric_k])\n",
    "    ground_truth_np = np.array(ground_truth)\n",
    "\n",
    "    hits = (predicted_np.reshape(-1, 1) == ground_truth_np.reshape(1, -1)).sum(axis=1)\n",
    "    return hits\n"
   ]
  },
  {
   "cell_type": "code",
   "execution_count": 70,
   "metadata": {},
   "outputs": [],
   "source": [
    "predicted_np = np.array(recommendations.recommended[0][:10])\n",
    "ground_truth_np = np.array([384])\n",
    "\n",
    "hits = (predicted_np.reshape(-1, 1) == ground_truth_np.reshape(1, -1)).sum(axis=1)"
   ]
  },
  {
   "cell_type": "code",
   "execution_count": 71,
   "metadata": {},
   "outputs": [
    {
     "data": {
      "text/plain": [
       "array([0, 0, 1, 0, 0, 0, 0, 0, 0, 0])"
      ]
     },
     "execution_count": 71,
     "metadata": {},
     "output_type": "execute_result"
    }
   ],
   "source": [
    "(predicted_np.reshape(-1, 1) == ground_truth_np.reshape(1, -1)).sum(axis=1)"
   ]
  },
  {
   "cell_type": "code",
   "execution_count": 72,
   "metadata": {},
   "outputs": [
    {
     "data": {
      "text/plain": [
       "array([[384]])"
      ]
     },
     "execution_count": 72,
     "metadata": {},
     "output_type": "execute_result"
    }
   ],
   "source": [
    "ground_truth_np.reshape(1, -1)"
   ]
  },
  {
   "cell_type": "code",
   "execution_count": 75,
   "metadata": {},
   "outputs": [
    {
     "data": {
      "text/plain": [
       "array([[226, 138],\n",
       "       [384, 383],\n",
       "       [503, 376],\n",
       "       [387, 405],\n",
       "       [762,  67]])"
      ]
     },
     "execution_count": 75,
     "metadata": {},
     "output_type": "execute_result"
    }
   ],
   "source": [
    "predicted_np.reshape(-1, 2)"
   ]
  },
  {
   "cell_type": "code",
   "execution_count": 77,
   "metadata": {},
   "outputs": [
    {
     "data": {
      "text/plain": [
       "0.9999999999999998"
      ]
     },
     "execution_count": 77,
     "metadata": {},
     "output_type": "execute_result"
    }
   ],
   "source": [
    "ndcg_score(predicted_np.reshape(-1, 2), predicted_np.reshape(-1, 2))"
   ]
  },
  {
   "cell_type": "code",
   "execution_count": 136,
   "metadata": {},
   "outputs": [],
   "source": [
    "def hits_per_user(recommended, label, k):\n",
    "\n",
    "    if recommended is None:\n",
    "        return None\n",
    "\n",
    "    # assert label is not None\n",
    "    # assert len(label) > 0\n",
    "\n",
    "    recommended_array = np.array(recommended[:k])\n",
    "    label_array = np.array(label)\n",
    "\n",
    "    hits = (recommended_array.reshape(-1, 1) == label_array.reshape(1, -1)).sum(axis=1)\n",
    "    return hits\n",
    "\n",
    "def recall_per_user(row, k) -> float:\n",
    "    recommended = row['recommended']\n",
    "    label = row['label']\n",
    "\n",
    "    hits = hits_per_user(recommended, label, k)\n",
    "\n",
    "    if hits is None:\n",
    "        return 0.\n",
    "\n",
    "    return hits.sum() / min(len(label), k)\n",
    "\n",
    "def precision_per_user(row, k) -> float:\n",
    "    recommended = row['recommended']\n",
    "    label = row['label']\n",
    "\n",
    "    hits = hits_per_user(recommended, label, k)\n",
    "\n",
    "    if hits is None:\n",
    "        return 0.\n",
    "\n",
    "    return hits.sum() / k\n",
    "\n",
    "\n",
    "def ndcg_per_user(row, k) -> float:\n",
    "    recommended = row['recommended']\n",
    "    label = row['label']\n",
    "\n",
    "    hits = hits_per_user(recommended, label, k)\n",
    "\n",
    "    if hits is None:\n",
    "        return 0.\n",
    "\n",
    "    recommended_len = min(len(recommended), k)\n",
    "    label_len = min(len(label), k)\n",
    "    \n",
    "    ndcg_weights = 1. / np.log2(np.arange(2, k + 2))\n",
    "\n",
    "    dcg = (hits * ndcg_weights[:recommended_len]).sum()\n",
    "    \n",
    "    idcg = ndcg_weights.cumsum()[label_len-1]\n",
    "\n",
    "    return dcg / idcg\n",
    "\n",
    "def compute_metrics(df, ks):\n",
    "    metrics = {}\n",
    "    for k in ks:\n",
    "        mean_ndcg = df.apply(lambda row: ndcg_per_user(row, k=k), axis=1).mean()\n",
    "        mean_recall = df.apply(lambda row: recall_per_user(row, k=k), axis=1).mean()\n",
    "        mean_precision = df.apply(lambda row: precision_per_user(row, k=k), axis=1).mean()\n",
    "\n",
    "        metrics.update({\n",
    "                f\"NDCG@{k}\" : mean_ndcg,\n",
    "                f\"Recall@{k}\" : mean_recall,\n",
    "                f\"Precision@{k}\" : mean_precision\n",
    "            })\n",
    "\n",
    "    return metrics"
   ]
  },
  {
   "cell_type": "code",
   "execution_count": 91,
   "metadata": {},
   "outputs": [],
   "source": [
    "# metric_k = 1\n",
    "# ndcg_weights = 1.0 / np.log2(np.arange(0, metric_k) + 2)\n",
    "# ndcg_idcg = ndcg_weights.cumsum()\n",
    "\n",
    "\n",
    "# def hits_per_user(predicted, ground_truth):\n",
    "\n",
    "#     if predicted is None:\n",
    "#         return None\n",
    "\n",
    "#     assert ground_truth is not None\n",
    "#     assert len(ground_truth) > 0\n",
    "\n",
    "#     predicted_np = np.array(predicted[:metric_k])\n",
    "#     ground_truth_np = np.array(ground_truth)\n",
    "\n",
    "#     hits = (predicted_np.reshape(-1, 1) == ground_truth_np.reshape(1, -1)).sum(axis=1)\n",
    "#     return hits\n",
    "\n",
    "\n",
    "# def recall_per_user() -> float:\n",
    "#     hits = hits_per_user(pl_struct)\n",
    "\n",
    "#     if hits is None:\n",
    "#         return 0.0\n",
    "\n",
    "#     gt_count = min(len(pl_struct[\"ground_truth\"]), metric_k)\n",
    "#     return hits.sum() / gt_count\n",
    "\n",
    "\n",
    "# def ndcg_per_user(predicted, ground_truth) -> float:\n",
    "#     hits = hits_per_user(predicted, ground_truth)\n",
    "\n",
    "#     if hits is None:\n",
    "#         return 0.0\n",
    "\n",
    "#     predicted_count = min(len(predicted), metric_k)\n",
    "#     gt_count = min(len(ground_truth), metric_k)\n",
    "\n",
    "#     dcg = (hits * ndcg_weights[:predicted_count]).sum()\n",
    "#     idcg = ndcg_idcg[gt_count - 1]\n",
    "#     ndcg = dcg / idcg\n",
    "\n",
    "#     return ndcg\n",
    "\n",
    "\n",
    "def compute_metrics(submission, gt):\n",
    "    submission_postprocessed = (\n",
    "        submission\n",
    "        .select(\n",
    "            pl.col(\"user_id\").cast(pl.Int32),\n",
    "            pl.col(\"track_id\").str.split(\" \").cast(pl.List(pl.Int32)).alias(\"predicted\"),\n",
    "        )\n",
    "        .unique(subset=\"user_id\")\n",
    "\n",
    "        # Remove duplicated items\n",
    "        # IMPORTANT: We keep original order of items, because it affects metric value\n",
    "        .with_columns(\n",
    "            pl.col(\"predicted\").list.unique(maintain_order=True)\n",
    "        )\n",
    "    )\n",
    "    ground_truth = gt.groupby(\"user_id\").agg(pl.col(\"track_id\").alias(\"ground_truth\"))\n",
    "    submission_with_gt = ground_truth.join(submission_postprocessed, on=\"user_id\", how=\"left\")\n",
    "\n",
    "    metrics_per_user = submission_with_gt.select(\n",
    "        pl.col(\"user_id\"),\n",
    "        pl.struct(\"predicted\", \"ground_truth\").apply(ndcg_per_user).alias(\"ndcg\"),\n",
    "        pl.struct(\"predicted\", \"ground_truth\").apply(recall_per_user).alias(\"recall\"),\n",
    "    )\n",
    "\n",
    "    mean_ndcg = metrics_per_user.select(pl.col(\"ndcg\").mean())[\"ndcg\"][0]\n",
    "    mean_recall = metrics_per_user.select(pl.col(\"recall\").mean())[\"recall\"][0]\n",
    "\n",
    "    return {\n",
    "        f\"ndcg@{metric_k}\": mean_ndcg,\n",
    "        f\"recall@{metric_k}\": mean_recall,\n",
    "    }"
   ]
  },
  {
   "cell_type": "code",
   "execution_count": 141,
   "metadata": {},
   "outputs": [
    {
     "data": {
      "text/plain": [
       "0.03151486642670776"
      ]
     },
     "execution_count": 141,
     "metadata": {},
     "output_type": "execute_result"
    }
   ],
   "source": [
    "ndcg"
   ]
  },
  {
   "cell_type": "code",
   "execution_count": 140,
   "metadata": {},
   "outputs": [],
   "source": [
    "ndcg = labelled_recommendations.apply(lambda row: ndcg_per_user(row, k=10), axis=1).mean()\n",
    "recall = labelled_recommendations.apply(lambda row: recall_per_user(row, k=10), axis=1)\n",
    "precision = labelled_recommendations.apply(lambda row: precision_per_user(row, k=10), axis=1)"
   ]
  },
  {
   "cell_type": "code",
   "execution_count": 36,
   "metadata": {},
   "outputs": [
    {
     "data": {
      "text/html": [
       "<div>\n",
       "<style scoped>\n",
       "    .dataframe tbody tr th:only-of-type {\n",
       "        vertical-align: middle;\n",
       "    }\n",
       "\n",
       "    .dataframe tbody tr th {\n",
       "        vertical-align: top;\n",
       "    }\n",
       "\n",
       "    .dataframe thead th {\n",
       "        text-align: right;\n",
       "    }\n",
       "</style>\n",
       "<table border=\"1\" class=\"dataframe\">\n",
       "  <thead>\n",
       "    <tr style=\"text-align: right;\">\n",
       "      <th></th>\n",
       "      <th>user_id</th>\n",
       "      <th>recommended</th>\n",
       "    </tr>\n",
       "  </thead>\n",
       "  <tbody>\n",
       "    <tr>\n",
       "      <th>0</th>\n",
       "      <td>0</td>\n",
       "      <td>[226, 138, 384, 383, 503, 376, 387, 405, 762, 67]</td>\n",
       "    </tr>\n",
       "    <tr>\n",
       "      <th>1</th>\n",
       "      <td>1</td>\n",
       "      <td>[118, 124, 256, 263, 30, 169, 526, 158, 362, 432]</td>\n",
       "    </tr>\n",
       "    <tr>\n",
       "      <th>2</th>\n",
       "      <td>2</td>\n",
       "      <td>[9, 377, 528, 937, 406, 335, 515, 43, 348, 368]</td>\n",
       "    </tr>\n",
       "    <tr>\n",
       "      <th>3</th>\n",
       "      <td>3</td>\n",
       "      <td>[118, 91, 637, 47, 67, 817, 417, 746, 259, 508]</td>\n",
       "    </tr>\n",
       "    <tr>\n",
       "      <th>4</th>\n",
       "      <td>4</td>\n",
       "      <td>[443, 315, 326, 897, 308, 631, 256, 627, 640, ...</td>\n",
       "    </tr>\n",
       "    <tr>\n",
       "      <th>...</th>\n",
       "      <td>...</td>\n",
       "      <td>...</td>\n",
       "    </tr>\n",
       "    <tr>\n",
       "      <th>6029</th>\n",
       "      <td>6029</td>\n",
       "      <td>[148, 216, 508, 624, 113, 142, 569, 557, 817, ...</td>\n",
       "    </tr>\n",
       "    <tr>\n",
       "      <th>6030</th>\n",
       "      <td>6030</td>\n",
       "      <td>[111, 1435, 671, 567, 197, 446, 826, 1489, 750...</td>\n",
       "    </tr>\n",
       "    <tr>\n",
       "      <th>6031</th>\n",
       "      <td>6031</td>\n",
       "      <td>[323, 112, 377, 515, 132, 335, 314, 995, 406, ...</td>\n",
       "    </tr>\n",
       "    <tr>\n",
       "      <th>6032</th>\n",
       "      <td>6032</td>\n",
       "      <td>[826, 6, 827, 778, 323, 931, 38, 941, 111, 798]</td>\n",
       "    </tr>\n",
       "    <tr>\n",
       "      <th>6033</th>\n",
       "      <td>6033</td>\n",
       "      <td>[826, 827, 38, 113, 940, 326, 640, 526, 528, 256]</td>\n",
       "    </tr>\n",
       "  </tbody>\n",
       "</table>\n",
       "<p>6034 rows × 2 columns</p>\n",
       "</div>"
      ],
      "text/plain": [
       "      user_id                                        recommended\n",
       "0           0  [226, 138, 384, 383, 503, 376, 387, 405, 762, 67]\n",
       "1           1  [118, 124, 256, 263, 30, 169, 526, 158, 362, 432]\n",
       "2           2    [9, 377, 528, 937, 406, 335, 515, 43, 348, 368]\n",
       "3           3    [118, 91, 637, 47, 67, 817, 417, 746, 259, 508]\n",
       "4           4  [443, 315, 326, 897, 308, 631, 256, 627, 640, ...\n",
       "...       ...                                                ...\n",
       "6029     6029  [148, 216, 508, 624, 113, 142, 569, 557, 817, ...\n",
       "6030     6030  [111, 1435, 671, 567, 197, 446, 826, 1489, 750...\n",
       "6031     6031  [323, 112, 377, 515, 132, 335, 314, 995, 406, ...\n",
       "6032     6032    [826, 6, 827, 778, 323, 931, 38, 941, 111, 798]\n",
       "6033     6033  [826, 827, 38, 113, 940, 326, 640, 526, 528, 256]\n",
       "\n",
       "[6034 rows x 2 columns]"
      ]
     },
     "execution_count": 36,
     "metadata": {},
     "output_type": "execute_result"
    }
   ],
   "source": [
    "recommendations = pd.DataFrame({\n",
    "        'user_id': np.arange(0, len(als_recommendations_matrix)),\n",
    "        'recommended': list(als_recommendations_matrix.tolist()),\n",
    "        # 'score': list(als_recommendations_scores),\n",
    "    })\n",
    "recommendations"
   ]
  },
  {
   "cell_type": "code",
   "execution_count": 37,
   "metadata": {},
   "outputs": [
    {
     "data": {
      "text/plain": [
       "[226, 138, 384, 383, 503, 376, 387, 405, 762, 67]"
      ]
     },
     "execution_count": 37,
     "metadata": {},
     "output_type": "execute_result"
    }
   ],
   "source": [
    "recommendations.recommended[0]"
   ]
  },
  {
   "cell_type": "code",
   "execution_count": 17,
   "metadata": {},
   "outputs": [],
   "source": [
    "from sklearn.metrics import ndcg_score, recall_score, precision_score"
   ]
  },
  {
   "cell_type": "code",
   "execution_count": 38,
   "metadata": {},
   "outputs": [
    {
     "data": {
      "text/html": [
       "<div>\n",
       "<style scoped>\n",
       "    .dataframe tbody tr th:only-of-type {\n",
       "        vertical-align: middle;\n",
       "    }\n",
       "\n",
       "    .dataframe tbody tr th {\n",
       "        vertical-align: top;\n",
       "    }\n",
       "\n",
       "    .dataframe thead th {\n",
       "        text-align: right;\n",
       "    }\n",
       "</style>\n",
       "<table border=\"1\" class=\"dataframe\">\n",
       "  <thead>\n",
       "    <tr style=\"text-align: right;\">\n",
       "      <th></th>\n",
       "      <th>label</th>\n",
       "    </tr>\n",
       "    <tr>\n",
       "      <th>user_id</th>\n",
       "      <th></th>\n",
       "    </tr>\n",
       "  </thead>\n",
       "  <tbody>\n",
       "    <tr>\n",
       "      <th>0</th>\n",
       "      <td>[17]</td>\n",
       "    </tr>\n",
       "    <tr>\n",
       "      <th>1</th>\n",
       "      <td>[61]</td>\n",
       "    </tr>\n",
       "    <tr>\n",
       "      <th>2</th>\n",
       "      <td>[138]</td>\n",
       "    </tr>\n",
       "    <tr>\n",
       "      <th>3</th>\n",
       "      <td>[91]</td>\n",
       "    </tr>\n",
       "    <tr>\n",
       "      <th>4</th>\n",
       "      <td>[192]</td>\n",
       "    </tr>\n",
       "    <tr>\n",
       "      <th>...</th>\n",
       "      <td>...</td>\n",
       "    </tr>\n",
       "    <tr>\n",
       "      <th>6029</th>\n",
       "      <td>[1818]</td>\n",
       "    </tr>\n",
       "    <tr>\n",
       "      <th>6030</th>\n",
       "      <td>[670]</td>\n",
       "    </tr>\n",
       "    <tr>\n",
       "      <th>6031</th>\n",
       "      <td>[1172]</td>\n",
       "    </tr>\n",
       "    <tr>\n",
       "      <th>6032</th>\n",
       "      <td>[934]</td>\n",
       "    </tr>\n",
       "    <tr>\n",
       "      <th>6033</th>\n",
       "      <td>[264]</td>\n",
       "    </tr>\n",
       "  </tbody>\n",
       "</table>\n",
       "<p>6034 rows × 1 columns</p>\n",
       "</div>"
      ],
      "text/plain": [
       "          label\n",
       "user_id        \n",
       "0          [17]\n",
       "1          [61]\n",
       "2         [138]\n",
       "3          [91]\n",
       "4         [192]\n",
       "...         ...\n",
       "6029     [1818]\n",
       "6030      [670]\n",
       "6031     [1172]\n",
       "6032      [934]\n",
       "6033      [264]\n",
       "\n",
       "[6034 rows x 1 columns]"
      ]
     },
     "execution_count": 38,
     "metadata": {},
     "output_type": "execute_result"
    }
   ],
   "source": [
    "label = test.groupby('user_id')[['item_id']].agg(list).rename(columns={'item_id' : 'label'})\n",
    "label"
   ]
  },
  {
   "cell_type": "code",
   "execution_count": 96,
   "metadata": {},
   "outputs": [],
   "source": [
    "labelled_recommendations = recommendations.merge(label, on='user_id', how='left')"
   ]
  },
  {
   "cell_type": "code",
   "execution_count": 100,
   "metadata": {},
   "outputs": [
    {
     "data": {
      "text/html": [
       "<div>\n",
       "<style scoped>\n",
       "    .dataframe tbody tr th:only-of-type {\n",
       "        vertical-align: middle;\n",
       "    }\n",
       "\n",
       "    .dataframe tbody tr th {\n",
       "        vertical-align: top;\n",
       "    }\n",
       "\n",
       "    .dataframe thead th {\n",
       "        text-align: right;\n",
       "    }\n",
       "</style>\n",
       "<table border=\"1\" class=\"dataframe\">\n",
       "  <thead>\n",
       "    <tr style=\"text-align: right;\">\n",
       "      <th></th>\n",
       "      <th>user_id</th>\n",
       "      <th>recommended</th>\n",
       "      <th>label</th>\n",
       "    </tr>\n",
       "  </thead>\n",
       "  <tbody>\n",
       "    <tr>\n",
       "      <th>0</th>\n",
       "      <td>0</td>\n",
       "      <td>[226, 138, 384, 383, 503, 376, 387, 405, 762, 67]</td>\n",
       "      <td>[17]</td>\n",
       "    </tr>\n",
       "    <tr>\n",
       "      <th>1</th>\n",
       "      <td>1</td>\n",
       "      <td>[118, 124, 256, 263, 30, 169, 526, 158, 362, 432]</td>\n",
       "      <td>[61]</td>\n",
       "    </tr>\n",
       "    <tr>\n",
       "      <th>2</th>\n",
       "      <td>2</td>\n",
       "      <td>[9, 377, 528, 937, 406, 335, 515, 43, 348, 368]</td>\n",
       "      <td>[138]</td>\n",
       "    </tr>\n",
       "    <tr>\n",
       "      <th>3</th>\n",
       "      <td>3</td>\n",
       "      <td>[118, 91, 637, 47, 67, 817, 417, 746, 259, 508]</td>\n",
       "      <td>[91]</td>\n",
       "    </tr>\n",
       "    <tr>\n",
       "      <th>4</th>\n",
       "      <td>4</td>\n",
       "      <td>[443, 315, 326, 897, 308, 631, 256, 627, 640, ...</td>\n",
       "      <td>[192]</td>\n",
       "    </tr>\n",
       "    <tr>\n",
       "      <th>...</th>\n",
       "      <td>...</td>\n",
       "      <td>...</td>\n",
       "      <td>...</td>\n",
       "    </tr>\n",
       "    <tr>\n",
       "      <th>6029</th>\n",
       "      <td>6029</td>\n",
       "      <td>[148, 216, 508, 624, 113, 142, 569, 557, 817, ...</td>\n",
       "      <td>[1818]</td>\n",
       "    </tr>\n",
       "    <tr>\n",
       "      <th>6030</th>\n",
       "      <td>6030</td>\n",
       "      <td>[111, 1435, 671, 567, 197, 446, 826, 1489, 750...</td>\n",
       "      <td>[670]</td>\n",
       "    </tr>\n",
       "    <tr>\n",
       "      <th>6031</th>\n",
       "      <td>6031</td>\n",
       "      <td>[323, 112, 377, 515, 132, 335, 314, 995, 406, ...</td>\n",
       "      <td>[1172]</td>\n",
       "    </tr>\n",
       "    <tr>\n",
       "      <th>6032</th>\n",
       "      <td>6032</td>\n",
       "      <td>[826, 6, 827, 778, 323, 931, 38, 941, 111, 798]</td>\n",
       "      <td>[934]</td>\n",
       "    </tr>\n",
       "    <tr>\n",
       "      <th>6033</th>\n",
       "      <td>6033</td>\n",
       "      <td>[826, 827, 38, 113, 940, 326, 640, 526, 528, 256]</td>\n",
       "      <td>[264]</td>\n",
       "    </tr>\n",
       "  </tbody>\n",
       "</table>\n",
       "<p>6034 rows × 3 columns</p>\n",
       "</div>"
      ],
      "text/plain": [
       "      user_id                                        recommended   label\n",
       "0           0  [226, 138, 384, 383, 503, 376, 387, 405, 762, 67]    [17]\n",
       "1           1  [118, 124, 256, 263, 30, 169, 526, 158, 362, 432]    [61]\n",
       "2           2    [9, 377, 528, 937, 406, 335, 515, 43, 348, 368]   [138]\n",
       "3           3    [118, 91, 637, 47, 67, 817, 417, 746, 259, 508]    [91]\n",
       "4           4  [443, 315, 326, 897, 308, 631, 256, 627, 640, ...   [192]\n",
       "...       ...                                                ...     ...\n",
       "6029     6029  [148, 216, 508, 624, 113, 142, 569, 557, 817, ...  [1818]\n",
       "6030     6030  [111, 1435, 671, 567, 197, 446, 826, 1489, 750...   [670]\n",
       "6031     6031  [323, 112, 377, 515, 132, 335, 314, 995, 406, ...  [1172]\n",
       "6032     6032    [826, 6, 827, 778, 323, 931, 38, 941, 111, 798]   [934]\n",
       "6033     6033  [826, 827, 38, 113, 940, 326, 640, 526, 528, 256]   [264]\n",
       "\n",
       "[6034 rows x 3 columns]"
      ]
     },
     "execution_count": 100,
     "metadata": {},
     "output_type": "execute_result"
    }
   ],
   "source": [
    "labelled_recommendations"
   ]
  },
  {
   "cell_type": "code",
   "execution_count": null,
   "metadata": {},
   "outputs": [],
   "source": [
    "k=1\n",
    "labelled_recommendations.apply(\n",
    "            lambda row: ndcg_score(row['recommended'][:k], row['label'], k=k),\n",
    "            axis=1,\n",
    "            result_type='expand'\n",
    "        )\n",
    "        # .rename(columns={ 0: 'recall', 1: 'map' })"
   ]
  },
  {
   "cell_type": "code",
   "execution_count": 27,
   "metadata": {},
   "outputs": [],
   "source": [
    "def compute_recsys_metrics(\n",
    "    predicted: pd.DataFrame,\n",
    "    test: pd.DataFrame,\n",
    "    k: int = 10,\n",
    "    user_key = 'user_id',\n",
    "    item_key = 'item_id'\n",
    "):\n",
    "    assert user_key in predicted.columns\n",
    "    assert item_key in predicted.columns\n",
    "    assert user_key in test.columns\n",
    "    assert item_key in test.columns\n",
    "    assert k > 0\n",
    "\n",
    "    predicted_grouped = (\n",
    "        predicted\n",
    "        .groupby(user_key)\n",
    "        .agg({item_key: list})\n",
    "        .rename(columns={item_key: 'predicted'})\n",
    "    )\n",
    "\n",
    "    test_grouped = (\n",
    "        test\n",
    "        .groupby(user_key)\n",
    "        .agg({item_key: set})\n",
    "        .rename(columns={item_key: 'ground_truth'})\n",
    "    )\n",
    "\n",
    "    items_to_compare = predicted_grouped.merge(\n",
    "        test_grouped,\n",
    "        on=user_key,\n",
    "        how='left'\n",
    "    )\n",
    "\n",
    "    metrics = (\n",
    "        items_to_compare\n",
    "        .apply(\n",
    "            lambda row: _metrics(row['predicted'], row['ground_truth'], k),\n",
    "            axis=1,\n",
    "            result_type='expand'\n",
    "        )\n",
    "        .rename(columns={ 0: 'recall', 1: 'map' })\n",
    "    )\n",
    "\n",
    "    return metrics.mean().to_dict()\n",
    "\n",
    "\n",
    "def _metrics(predicted: Sequence, ground_truth: Set, k: int):\n",
    "    if not ground_truth:\n",
    "        return 0.0, 0.0\n",
    "\n",
    "    predicted_k = predicted[:k]\n",
    "\n",
    "    # Recall@k\n",
    "    intersection = ground_truth.intersection(predicted_k)\n",
    "    recall = len(intersection) / min(len(ground_truth), len(predicted_k))\n",
    "\n",
    "    # Average Precision (AP@k)\n",
    "    num_hits = 0.0\n",
    "    ap_sum = 0.0\n",
    "    for i, pr in enumerate(predicted_k):\n",
    "        if pr in ground_truth and pr not in predicted[:i]:\n",
    "            num_hits += 1\n",
    "            ap_sum += num_hits / (i + 1.0)\n",
    "    ap_score = ap_sum / min(len(ground_truth), len(predicted_k))\n",
    "\n",
    "    return recall, ap_score"
   ]
  },
  {
   "cell_type": "code",
   "execution_count": null,
   "metadata": {},
   "outputs": [],
   "source": [
    "def recommendations_to_df(\n",
    "    recommendations_matrix: np.ndarray,\n",
    "    recommendations_scores: np.ndarray\n",
    "    ) -> pd.DataFrame:\n",
    "    \n",
    "    recommendations_indices = pd.DataFrame({\n",
    "        'user_index': np.arange(0, len(recommendations_matrix)),\n",
    "        'item_index': list(recommendations_matrix),\n",
    "        'score': list(recommendations_scores),\n",
    "    })\n",
    "\n",
    "    # user_mapping = pd.DataFrame({\n",
    "    #     'user_index': np.arange(0, len(user_encoder.classes_)),\n",
    "    #     'user_id': user_encoder.classes_,\n",
    "    # })\n",
    "\n",
    "    # item_mapping = pd.DataFrame({\n",
    "    #     'item_index': np.arange(0, len(item_encoder.classes_)),\n",
    "    #     'track_id': item_encoder.classes_,\n",
    "    # })\n",
    "\n",
    "    recommendations = (\n",
    "        recommendations_indices\n",
    "        .merge(\n",
    "            user_mapping,\n",
    "            on='user_index',\n",
    "            how='left',\n",
    "        )\n",
    "        .drop(columns=['user_index'])\n",
    "        .explode(['item_index', 'score'], ignore_index=True)\n",
    "        .merge(\n",
    "            item_mapping,\n",
    "            on='item_index',\n",
    "            how='left',\n",
    "        )\n",
    "        .drop(columns=['item_index'])\n",
    "    )\n",
    "\n",
    "    return recommendations"
   ]
  },
  {
   "cell_type": "code",
   "execution_count": 23,
   "metadata": {},
   "outputs": [],
   "source": [
    "m = torch.load(\"models/ml-1m/val/multivae.pth\", map_location=torch.device('cuda'), weights_only=True)"
   ]
  },
  {
   "cell_type": "code",
   "execution_count": 31,
   "metadata": {},
   "outputs": [
    {
     "data": {
      "text/plain": [
       "<All keys matched successfully>"
      ]
     },
     "execution_count": 31,
     "metadata": {},
     "output_type": "execute_result"
    }
   ],
   "source": [
    "vae = MultiVAE(3533, 200, 1, 600)\n",
    "mo = vae.load_state_dict(m)\n",
    "mo"
   ]
  },
  {
   "cell_type": "code",
   "execution_count": 9,
   "metadata": {},
   "outputs": [],
   "source": [
    "from torchmetrics import MetricCollection\n",
    "from torchmetrics.retrieval import (\n",
    "    RetrievalNormalizedDCG,\n",
    "    RetrievalPrecision,\n",
    "    RetrievalRecall,\n",
    ")"
   ]
  },
  {
   "cell_type": "code",
   "execution_count": 20,
   "metadata": {},
   "outputs": [
    {
     "data": {
      "text/plain": [
       "dict_values([8, 6])"
      ]
     },
     "execution_count": 20,
     "metadata": {},
     "output_type": "execute_result"
    }
   ],
   "source": [
    "d.values()"
   ]
  },
  {
   "cell_type": "code",
   "execution_count": 1,
   "metadata": {},
   "outputs": [
    {
     "data": {
      "text/plain": [
       "dict_keys(['1', '2'])"
      ]
     },
     "execution_count": 1,
     "metadata": {},
     "output_type": "execute_result"
    }
   ],
   "source": [
    "d = {'1' : 8, '2' : 6}\n",
    "d.keys()"
   ]
  },
  {
   "cell_type": "code",
   "execution_count": 12,
   "metadata": {},
   "outputs": [
    {
     "data": {
      "text/plain": [
       "{'RetrievalNormalizedDCG@1': 0,\n",
       " 'RetrievalRecall@1': 0,\n",
       " 'RetrievalPrecision@1': 0,\n",
       " 'RetrievalNormalizedDCG@10': 0,\n",
       " 'RetrievalRecall@10': 0,\n",
       " 'RetrievalPrecision@10': 0}"
      ]
     },
     "execution_count": 12,
     "metadata": {},
     "output_type": "execute_result"
    }
   ],
   "source": [
    "{k : 0 for k in metrics.keys(keep_base=True)}"
   ]
  },
  {
   "cell_type": "code",
   "execution_count": 13,
   "metadata": {},
   "outputs": [
    {
     "data": {
      "text/plain": [
       "{'1': 4.0, '2': 3.0}"
      ]
     },
     "execution_count": 13,
     "metadata": {},
     "output_type": "execute_result"
    }
   ],
   "source": [
    "{k : c[k] / len(d) for k in c}"
   ]
  },
  {
   "cell_type": "code",
   "execution_count": 5,
   "metadata": {},
   "outputs": [
    {
     "data": {
      "text/plain": [
       "Counter({'1': 32, '2': 24})"
      ]
     },
     "execution_count": 5,
     "metadata": {},
     "output_type": "execute_result"
    }
   ],
   "source": [
    "from collections import Counter\n",
    "\n",
    "d = {'1' : 8, '2' : 6}\n",
    "c = {'1' : 8, '2' : 6}\n",
    "cd = Counter(d) + Counter(c)\n",
    "cd += Counter(cd)\n",
    "cd"
   ]
  },
  {
   "cell_type": "code",
   "execution_count": 3,
   "metadata": {},
   "outputs": [
    {
     "data": {
      "text/plain": [
       "{'1': 8, '2': 6}"
      ]
     },
     "execution_count": 3,
     "metadata": {},
     "output_type": "execute_result"
    }
   ],
   "source": [
    "d = {'1' : 8, '2' : 6}\n",
    "d.update(d)\n",
    "d"
   ]
  },
  {
   "cell_type": "code",
   "execution_count": 16,
   "metadata": {},
   "outputs": [
    {
     "name": "stdout",
     "output_type": "stream",
     "text": [
      "0.7885\n"
     ]
    }
   ],
   "source": [
    "avg=0.7885\n",
    "print(f'{avg:.4f}')"
   ]
  },
  {
   "cell_type": "code",
   "execution_count": 10,
   "metadata": {},
   "outputs": [
    {
     "name": "stdout",
     "output_type": "stream",
     "text": [
      "RetrievalNormalizedDCG@1 RetrievalNormalizedDCG()\n",
      "RetrievalRecall@1 RetrievalRecall()\n",
      "RetrievalPrecision@1 RetrievalPrecision()\n",
      "RetrievalNormalizedDCG@10 RetrievalNormalizedDCG()\n",
      "RetrievalRecall@10 RetrievalRecall()\n",
      "RetrievalPrecision@10 RetrievalPrecision()\n"
     ]
    }
   ],
   "source": [
    "metrics = MetricCollection(\n",
    "        [MetricCollection([\n",
    "            RetrievalNormalizedDCG(top_k=k), \n",
    "            RetrievalRecall(top_k=k), \n",
    "            RetrievalPrecision(top_k=k, adaptive_k=True)\n",
    "        ], postfix=f'@{k}') \n",
    "        for k in [1, 10]\n",
    "        ])\n",
    "\n",
    "for metric, value in metrics.items(keep_base=True):\n",
    "    print(metric, value)"
   ]
  },
  {
   "cell_type": "code",
   "execution_count": 2,
   "metadata": {},
   "outputs": [
    {
     "data": {
      "text/plain": [
       "'/tmp'"
      ]
     },
     "execution_count": 2,
     "metadata": {},
     "output_type": "execute_result"
    }
   ],
   "source": [
    "from tempfile import gettempdir\n",
    "gettempdir()"
   ]
  },
  {
   "cell_type": "code",
   "execution_count": 3,
   "metadata": {},
   "outputs": [
    {
     "data": {
      "text/plain": [
       "'/mnt/hdd0/files/diploma/VAE-RecSys'"
      ]
     },
     "execution_count": 3,
     "metadata": {},
     "output_type": "execute_result"
    }
   ],
   "source": [
    "import os\n",
    "os.getcwd()"
   ]
  },
  {
   "cell_type": "code",
   "execution_count": 10,
   "metadata": {},
   "outputs": [
    {
     "name": "stdout",
     "output_type": "stream",
     "text": [
      "6034\n",
      "3533\n"
     ]
    }
   ],
   "source": [
    "print(ratings['user_id'].nunique())\n",
    "print(ratings['item_id'].nunique())"
   ]
  },
  {
   "cell_type": "code",
   "execution_count": 15,
   "metadata": {},
   "outputs": [],
   "source": [
    "user_label_index = val[\"user_id\"].astype(\"category\").cat.codes.values\n",
    "label_index = val[\"label_item_id\"].values\n",
    "assert len(user_label_index) == len(label_index)\n",
    "\n",
    "\n",
    "interactions_exploaded = val.explode(\"input_item_id\")\n",
    "\n",
    "user_input_index = interactions_exploaded[\"user_id\"].astype(\"category\").cat.codes.values\n",
    "input_index = interactions_exploaded[\"input_item_id\"].values\n",
    "assert len(user_input_index) == len(input_index)\n",
    "\n",
    "sparse_label = csr_matrix(\n",
    "    (\n",
    "        np.ones(val.shape[0]),\n",
    "        ([user_label_index, label_index]),\n",
    "    ),\n",
    "    shape=(val.user_id.nunique(), ratings.item_id.nunique()),\n",
    ")\n",
    "\n",
    "\n",
    "sparse_input = csr_matrix(\n",
    "    (\n",
    "        np.ones(interactions_exploaded.shape[0]),\n",
    "        ([user_input_index, input_index]),\n",
    "    ),\n",
    "    shape=(val.user_id.nunique(), ratings.item_id.nunique()),\n",
    ")\n",
    "\n",
    "\n",
    "dataloader = DataLoader(\n",
    "    TensorDataset(\n",
    "        FloatTensor(sparse_input.toarray()), FloatTensor(sparse_label.toarray())\n",
    "    ),\n",
    "    batch_size=16,\n",
    "    shuffle=False,\n",
    ")"
   ]
  },
  {
   "cell_type": "code",
   "execution_count": 33,
   "metadata": {},
   "outputs": [],
   "source": [
    "def make_sparse(grouped_ratings):\n",
    "    ratings = grouped_ratings.explode()\n",
    "\n",
    "    user_encoder = LabelEncoder()\n",
    "    user_index = user_encoder.fit_transform(ratings.index.to_numpy())\n",
    "\n",
    "    item_encoder = LabelEncoder()\n",
    "    item_index = item_encoder.fit_transform(ratings.values)\n",
    "\n",
    "    user_num = len(grouped_ratings)\n",
    "    item_num = len(np.unique(item_index))\n",
    "\n",
    "    sparse_matrix = csr_matrix(\n",
    "        (np.ones(len(user_index)), (user_index, item_index)),\n",
    "        shape=(user_num, item_num),\n",
    "    )\n",
    "\n",
    "    return sparse_matrix"
   ]
  },
  {
   "cell_type": "code",
   "execution_count": 34,
   "metadata": {},
   "outputs": [],
   "source": [
    "train_csr = make_sparse(train[\"item_id\"])"
   ]
  },
  {
   "cell_type": "code",
   "execution_count": 35,
   "metadata": {},
   "outputs": [
    {
     "data": {
      "text/plain": [
       "<6034x3525 sparse matrix of type '<class 'numpy.float64'>'\n",
       "\twith 563203 stored elements in Compressed Sparse Row format>"
      ]
     },
     "execution_count": 35,
     "metadata": {},
     "output_type": "execute_result"
    }
   ],
   "source": [
    "train_csr"
   ]
  },
  {
   "cell_type": "code",
   "execution_count": 36,
   "metadata": {},
   "outputs": [
    {
     "data": {
      "application/vnd.jupyter.widget-view+json": {
       "model_id": "e2ad99fbefc240309e24e49ad5fd5b81",
       "version_major": 2,
       "version_minor": 0
      },
      "text/plain": [
       "  0%|          | 0/15 [00:00<?, ?it/s]"
      ]
     },
     "metadata": {},
     "output_type": "display_data"
    }
   ],
   "source": [
    "als = AlternatingLeastSquares(factors=1024, random_state=0)\n",
    "als.fit(train_csr)"
   ]
  },
  {
   "cell_type": "code",
   "execution_count": 10,
   "metadata": {},
   "outputs": [],
   "source": [
    "rec_matrix, rec_scores = als.recommend(\n",
    "    range(0, len(train)), train_csr, N=50, filter_already_liked_items=True\n",
    ")"
   ]
  }
 ],
 "metadata": {
  "kernelspec": {
   "display_name": "diploma",
   "language": "python",
   "name": "python3"
  },
  "language_info": {
   "codemirror_mode": {
    "name": "ipython",
    "version": 3
   },
   "file_extension": ".py",
   "mimetype": "text/x-python",
   "name": "python",
   "nbconvert_exporter": "python",
   "pygments_lexer": "ipython3",
   "version": "3.10.14"
  }
 },
 "nbformat": 4,
 "nbformat_minor": 2
}
